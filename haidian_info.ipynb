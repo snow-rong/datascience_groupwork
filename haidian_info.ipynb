{
 "cells": [
  {
   "cell_type": "code",
   "execution_count": 26,
   "metadata": {},
   "outputs": [
    {
     "name": "stdout",
     "output_type": "stream",
     "text": [
      "Requirement already satisfied: jieba in d:\\anaconda3\\lib\\site-packages (0.39)\n",
      "Note: you may need to restart the kernel to use updated packages.\n"
     ]
    }
   ],
   "source": [
    "pip install jieba"
   ]
  },
  {
   "cell_type": "code",
   "execution_count": 27,
   "metadata": {},
   "outputs": [
    {
     "data": {
      "text/plain": [
       "1001"
      ]
     },
     "execution_count": 27,
     "metadata": {},
     "output_type": "execute_result"
    }
   ],
   "source": [
    "import pandas as pd\n",
    "import jieba\n",
    "data=pd.read_excel(\"C:\\\\Users\\\\雪宝\\\\Desktop\\\\bj_house_info第三版.xlsx\",sheet_name=\"海淀\")\n",
    "hangshu=len(data)\n",
    "hangshu"
   ]
  },
  {
   "cell_type": "code",
   "execution_count": 29,
   "metadata": {},
   "outputs": [],
   "source": [
    "counter=0\n",
    "while counter<hangshu:\n",
    "    text = data.titile.iloc[counter]          # 读取counter行，评论列单元格内容\n",
    "    seg_list = jieba.lcut(text, cut_all=False)      # 对读取的text评论分词\n",
    "    data.title_fenci.iloc[counter]=str(\"/ \".join(seg_list))  # 把分词结果赋给相应的单元格            \n",
    "    text1 = data.house_tags.iloc[counter]          # 读取counter行，评论列单元格内容\n",
    "    seg_list1 = jieba.lcut(text1, cut_all=False)      # 对读取的text评论分词\n",
    "    data.tags_fenci.iloc[counter]=str(\"/ \".join(seg_list1))  # 把分词结果赋给相应的单元格\n",
    "    counter=counter+1                          # counter+1，处理下一行数据"
   ]
  },
  {
   "cell_type": "code",
   "execution_count": 30,
   "metadata": {},
   "outputs": [],
   "source": [
    "data.to_excel(\"E:\\\\house_info\\\\bj_house_info第三版（fenci）2.xlsx\")    # 把结果保存到新Excel表中"
   ]
  },
  {
   "cell_type": "code",
   "execution_count": 31,
   "metadata": {
    "collapsed": true
   },
   "outputs": [
    {
     "name": "stdout",
     "output_type": "stream",
     "text": [
      "Requirement already satisfied: wordcloud in d:\\anaconda3\\lib\\site-packages (1.7.0)\n",
      "Requirement already satisfied: matplotlib in d:\\anaconda3\\lib\\site-packages (from wordcloud) (3.1.0)\n",
      "Requirement already satisfied: pillow in d:\\anaconda3\\lib\\site-packages (from wordcloud) (6.1.0)\n",
      "Requirement already satisfied: numpy>=1.6.1 in d:\\anaconda3\\lib\\site-packages (from wordcloud) (1.16.4)\n",
      "Requirement already satisfied: cycler>=0.10 in d:\\anaconda3\\lib\\site-packages (from matplotlib->wordcloud) (0.10.0)\n",
      "Requirement already satisfied: kiwisolver>=1.0.1 in d:\\anaconda3\\lib\\site-packages (from matplotlib->wordcloud) (1.1.0)\n",
      "Requirement already satisfied: pyparsing!=2.0.4,!=2.1.2,!=2.1.6,>=2.0.1 in d:\\anaconda3\\lib\\site-packages (from matplotlib->wordcloud) (2.4.0)\n",
      "Requirement already satisfied: python-dateutil>=2.1 in d:\\anaconda3\\lib\\site-packages (from matplotlib->wordcloud) (2.8.0)\n",
      "Requirement already satisfied: six in d:\\anaconda3\\lib\\site-packages (from cycler>=0.10->matplotlib->wordcloud) (1.12.0)\n",
      "Requirement already satisfied: setuptools in d:\\anaconda3\\lib\\site-packages (from kiwisolver>=1.0.1->matplotlib->wordcloud) (41.0.1)\n",
      "Note: you may need to restart the kernel to use updated packages.\n"
     ]
    }
   ],
   "source": [
    "pip install wordcloud"
   ]
  },
  {
   "cell_type": "code",
   "execution_count": 32,
   "metadata": {
    "collapsed": true
   },
   "outputs": [
    {
     "name": "stdout",
     "output_type": "stream",
     "text": [
      "Requirement already satisfied: matplotlib in d:\\anaconda3\\lib\\site-packages (3.1.0)\n",
      "Requirement already satisfied: cycler>=0.10 in d:\\anaconda3\\lib\\site-packages (from matplotlib) (0.10.0)\n",
      "Requirement already satisfied: kiwisolver>=1.0.1 in d:\\anaconda3\\lib\\site-packages (from matplotlib) (1.1.0)\n",
      "Requirement already satisfied: pyparsing!=2.0.4,!=2.1.2,!=2.1.6,>=2.0.1 in d:\\anaconda3\\lib\\site-packages (from matplotlib) (2.4.0)\n",
      "Requirement already satisfied: python-dateutil>=2.1 in d:\\anaconda3\\lib\\site-packages (from matplotlib) (2.8.0)\n",
      "Requirement already satisfied: numpy>=1.11 in d:\\anaconda3\\lib\\site-packages (from matplotlib) (1.16.4)\n",
      "Requirement already satisfied: six in d:\\anaconda3\\lib\\site-packages (from cycler>=0.10->matplotlib) (1.12.0)\n",
      "Requirement already satisfied: setuptools in d:\\anaconda3\\lib\\site-packages (from kiwisolver>=1.0.1->matplotlib) (41.0.1)\n",
      "Note: you may need to restart the kernel to use updated packages.\n"
     ]
    }
   ],
   "source": [
    "pip install matplotlib"
   ]
  },
  {
   "cell_type": "code",
   "execution_count": 42,
   "metadata": {},
   "outputs": [],
   "source": [
    "filename = \"E:\\\\house_info\\\\title(haidian).txt\"\n",
    "with open(filename,encoding='utf-8') as f:\n",
    "    mytext = f.read()\n",
    "filename = \"E:\\\\house_info\\\\tags(haidian).txt\"\n",
    "with open(filename,encoding='utf-8') as f:\n",
    "    mytext1 = f.read()"
   ]
  },
  {
   "cell_type": "code",
   "execution_count": 44,
   "metadata": {},
   "outputs": [
    {
     "data": {
      "text/plain": [
       "<wordcloud.wordcloud.WordCloud at 0x13c24ef6c50>"
      ]
     },
     "execution_count": 44,
     "metadata": {},
     "output_type": "execute_result"
    }
   ],
   "source": [
    "from wordcloud import WordCloud\n",
    "from PIL import Image\n",
    "import numpy as np\n",
    "mask = np.array(Image.open('房子(1).jpg'))\n",
    "wordcloud = WordCloud(font_path=\"msyh.ttf\",mask=mask,background_color='white')\n",
    "wordcloud.generate(mytext)\n",
    "wordcloud.to_file('title(haidian).png')"
   ]
  },
  {
   "cell_type": "code",
   "execution_count": 35,
   "metadata": {},
   "outputs": [
    {
     "data": {
      "text/plain": [
       "<wordcloud.wordcloud.WordCloud at 0x13c1fd59a58>"
      ]
     },
     "execution_count": 35,
     "metadata": {},
     "output_type": "execute_result"
    }
   ],
   "source": [
    "from wordcloud import WordCloud\n",
    "from PIL import Image\n",
    "wordcloud = WordCloud(font_path=\"msyh.ttf\",background_color='white')\n",
    "wordcloud.generate(mytext1)\n",
    "wordcloud.to_file('tags(haidian).png')"
   ]
  },
  {
   "cell_type": "code",
   "execution_count": 38,
   "metadata": {},
   "outputs": [
    {
     "data": {
      "text/plain": [
       "[('南北', 229),\n",
       " ('通透', 173),\n",
       " ('看房', 133),\n",
       " ('带', 129),\n",
       " ('海淀', 124),\n",
       " ('朝南', 119),\n",
       " ('户型', 118),\n",
       " ('花园', 116),\n",
       " ('小区', 113),\n",
       " ('精装修', 113),\n",
       " ('好', 110),\n",
       " ('五年', 107),\n",
       " ('居室', 99),\n",
       " ('室厅', 91),\n",
       " ('随时', 87),\n",
       " ('低', 87),\n",
       " ('方正', 86),\n",
       " ('客厅', 84),\n",
       " ('电梯', 81),\n",
       " ('采光', 80)]"
      ]
     },
     "execution_count": 38,
     "metadata": {},
     "output_type": "execute_result"
    }
   ],
   "source": [
    "from collections import Counter\n",
    "import re\n",
    "pattern = re.compile(u'\\s|\\，|\\.|-|:|;|\\）|\\（|\\?|\\万|\\/|\\！|[0-9]|\"') # 定义正则表达式匹配模式\n",
    "mytext = re.sub(pattern, '', mytext) # 将符合模式的字符去除\n",
    "# 返回最高频的 20个\n",
    "Counter(list(jieba.cut(mytext))).most_common(20)"
   ]
  },
  {
   "cell_type": "code",
   "execution_count": 39,
   "metadata": {},
   "outputs": [
    {
     "data": {
      "text/plain": [
       "[('小区', 305),\n",
       " ('品质', 250),\n",
       " ('地铁', 219),\n",
       " ('配套', 211),\n",
       " ('成熟', 211),\n",
       " ('近', 210),\n",
       " ('繁华', 150),\n",
       " ('地段', 150),\n",
       " ('环境优美', 141),\n",
       " ('交通', 117),\n",
       " ('便利', 117),\n",
       " ('住户', 83),\n",
       " ('素质', 66),\n",
       " ('安全性', 61),\n",
       " ('低密度', 48),\n",
       " ('南北', 37),\n",
       " ('通透', 37),\n",
       " ('新', 30),\n",
       " ('朝南', 28),\n",
       " ('次', 26)]"
      ]
     },
     "execution_count": 39,
     "metadata": {},
     "output_type": "execute_result"
    }
   ],
   "source": [
    "from collections import Counter\n",
    "pattern = re.compile(u'\\s|\\，|\\.|-|:|;|\\）|\\（|\\?|\\万|\\/|\\！|[0-9]|\"') # 定义正则表达式匹配模式\n",
    "mytext1 = re.sub(pattern, '', mytext1) # 将符合模式的字符去除\n",
    "# 返回最高频的 20个\n",
    "Counter(list(jieba.cut(mytext1))).most_common(20)"
   ]
  }
 ],
 "metadata": {
  "kernelspec": {
   "display_name": "Python 3",
   "language": "python",
   "name": "python3"
  },
  "language_info": {
   "codemirror_mode": {
    "name": "ipython",
    "version": 3
   },
   "file_extension": ".py",
   "mimetype": "text/x-python",
   "name": "python",
   "nbconvert_exporter": "python",
   "pygments_lexer": "ipython3",
   "version": "3.7.3"
  }
 },
 "nbformat": 4,
 "nbformat_minor": 2
}
