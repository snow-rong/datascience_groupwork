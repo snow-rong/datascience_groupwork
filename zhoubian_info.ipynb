{
 "cells": [
  {
   "cell_type": "code",
   "execution_count": 1,
   "metadata": {},
   "outputs": [
    {
     "name": "stdout",
     "output_type": "stream",
     "text": [
      "Requirement already satisfied: jieba in d:\\anaconda3\\lib\\site-packages (0.39)\n",
      "Note: you may need to restart the kernel to use updated packages.\n"
     ]
    }
   ],
   "source": [
    "pip install jieba"
   ]
  },
  {
   "cell_type": "code",
   "execution_count": 2,
   "metadata": {},
   "outputs": [
    {
     "data": {
      "text/plain": [
       "1073"
      ]
     },
     "execution_count": 2,
     "metadata": {},
     "output_type": "execute_result"
    }
   ],
   "source": [
    "import pandas as pd\n",
    "import jieba\n",
    "data=pd.read_excel(\"C:\\\\Users\\\\雪宝\\\\Desktop\\\\bj_house_info第三版.xlsx\",sheet_name=\"北京周边\")\n",
    "hangshu=len(data)\n",
    "hangshu"
   ]
  },
  {
   "cell_type": "code",
   "execution_count": 3,
   "metadata": {},
   "outputs": [
    {
     "name": "stderr",
     "output_type": "stream",
     "text": [
      "Building prefix dict from the default dictionary ...\n",
      "Loading model from cache C:\\Users\\雪宝\\AppData\\Local\\Temp\\jieba.cache\n",
      "Loading model cost 0.653 seconds.\n",
      "Prefix dict has been built succesfully.\n",
      "D:\\Anaconda3\\lib\\site-packages\\pandas\\core\\indexing.py:190: SettingWithCopyWarning: \n",
      "A value is trying to be set on a copy of a slice from a DataFrame\n",
      "\n",
      "See the caveats in the documentation: http://pandas.pydata.org/pandas-docs/stable/indexing.html#indexing-view-versus-copy\n",
      "  self._setitem_with_indexer(indexer, value)\n"
     ]
    }
   ],
   "source": [
    "counter=0\n",
    "while counter<hangshu:\n",
    "    text = data.titile.iloc[counter]          # 读取counter行，评论列单元格内容\n",
    "    seg_list = jieba.lcut(text, cut_all=False)      # 对读取的text评论分词\n",
    "    data.title_fenci.iloc[counter]=str(\"/ \".join(seg_list))  # 把分词结果赋给相应的单元格            \n",
    "    text1 = data.house_tags.iloc[counter]          # 读取counter行，评论列单元格内容\n",
    "    seg_list1 = jieba.lcut(text1, cut_all=False)      # 对读取的text评论分词\n",
    "    data.tags_fenci.iloc[counter]=str(\"/ \".join(seg_list1))  # 把分词结果赋给相应的单元格\n",
    "    counter=counter+1                          # counter+1，处理下一行数据"
   ]
  },
  {
   "cell_type": "code",
   "execution_count": 4,
   "metadata": {},
   "outputs": [],
   "source": [
    "data.to_excel(\"E:\\\\house_info\\\\bj_house_info第三版（fenci）17.xlsx\")    # 把结果保存到新Excel表中"
   ]
  },
  {
   "cell_type": "code",
   "execution_count": 5,
   "metadata": {},
   "outputs": [
    {
     "name": "stdout",
     "output_type": "stream",
     "text": [
      "Requirement already satisfied: wordcloud in d:\\anaconda3\\lib\\site-packages (1.7.0)\n",
      "Requirement already satisfied: pillow in d:\\anaconda3\\lib\\site-packages (from wordcloud) (6.1.0)\n",
      "Requirement already satisfied: matplotlib in d:\\anaconda3\\lib\\site-packages (from wordcloud) (3.1.0)\n",
      "Requirement already satisfied: numpy>=1.6.1 in d:\\anaconda3\\lib\\site-packages (from wordcloud) (1.16.4)\n",
      "Requirement already satisfied: cycler>=0.10 in d:\\anaconda3\\lib\\site-packages (from matplotlib->wordcloud) (0.10.0)\n",
      "Requirement already satisfied: kiwisolver>=1.0.1 in d:\\anaconda3\\lib\\site-packages (from matplotlib->wordcloud) (1.1.0)\n",
      "Requirement already satisfied: pyparsing!=2.0.4,!=2.1.2,!=2.1.6,>=2.0.1 in d:\\anaconda3\\lib\\site-packages (from matplotlib->wordcloud) (2.4.0)\n",
      "Requirement already satisfied: python-dateutil>=2.1 in d:\\anaconda3\\lib\\site-packages (from matplotlib->wordcloud) (2.8.0)\n",
      "Requirement already satisfied: six in d:\\anaconda3\\lib\\site-packages (from cycler>=0.10->matplotlib->wordcloud) (1.12.0)\n",
      "Requirement already satisfied: setuptools in d:\\anaconda3\\lib\\site-packages (from kiwisolver>=1.0.1->matplotlib->wordcloud) (41.0.1)\n",
      "Note: you may need to restart the kernel to use updated packages.\n"
     ]
    }
   ],
   "source": [
    "pip install wordcloud"
   ]
  },
  {
   "cell_type": "code",
   "execution_count": 6,
   "metadata": {},
   "outputs": [
    {
     "name": "stdout",
     "output_type": "stream",
     "text": [
      "Requirement already satisfied: matplotlib in d:\\anaconda3\\lib\\site-packages (3.1.0)\n",
      "Requirement already satisfied: cycler>=0.10 in d:\\anaconda3\\lib\\site-packages (from matplotlib) (0.10.0)\n",
      "Requirement already satisfied: kiwisolver>=1.0.1 in d:\\anaconda3\\lib\\site-packages (from matplotlib) (1.1.0)\n",
      "Requirement already satisfied: pyparsing!=2.0.4,!=2.1.2,!=2.1.6,>=2.0.1 in d:\\anaconda3\\lib\\site-packages (from matplotlib) (2.4.0)\n",
      "Requirement already satisfied: python-dateutil>=2.1 in d:\\anaconda3\\lib\\site-packages (from matplotlib) (2.8.0)\n",
      "Requirement already satisfied: numpy>=1.11 in d:\\anaconda3\\lib\\site-packages (from matplotlib) (1.16.4)\n",
      "Requirement already satisfied: six in d:\\anaconda3\\lib\\site-packages (from cycler>=0.10->matplotlib) (1.12.0)\n",
      "Requirement already satisfied: setuptools in d:\\anaconda3\\lib\\site-packages (from kiwisolver>=1.0.1->matplotlib) (41.0.1)\n",
      "Note: you may need to restart the kernel to use updated packages.\n"
     ]
    }
   ],
   "source": [
    "pip install matplotlib"
   ]
  },
  {
   "cell_type": "code",
   "execution_count": 14,
   "metadata": {},
   "outputs": [],
   "source": [
    "filename = \"E:\\\\house_info\\\\title(zhoubian).txt\"\n",
    "with open(filename,encoding='utf-8') as f:\n",
    "    mytext = f.read()\n",
    "filename = \"E:\\\\house_info\\\\tags(zhoubian).txt\"\n",
    "with open(filename,encoding='utf-8') as f:\n",
    "    mytext1 = f.read()"
   ]
  },
  {
   "cell_type": "code",
   "execution_count": 15,
   "metadata": {},
   "outputs": [
    {
     "data": {
      "text/plain": [
       "<wordcloud.wordcloud.WordCloud at 0x27d96435240>"
      ]
     },
     "execution_count": 15,
     "metadata": {},
     "output_type": "execute_result"
    }
   ],
   "source": [
    "from wordcloud import WordCloud\n",
    "from PIL import Image\n",
    "import numpy as np\n",
    "mask = np.array(Image.open('房子(1).jpg'))\n",
    "wordcloud = WordCloud(font_path=\"msyh.ttf\",mask=mask,background_color='white')\n",
    "wordcloud.generate(mytext)\n",
    "wordcloud.to_file('title(zhoubian).png')"
   ]
  },
  {
   "cell_type": "code",
   "execution_count": 17,
   "metadata": {},
   "outputs": [
    {
     "data": {
      "text/plain": [
       "<wordcloud.wordcloud.WordCloud at 0x27d96435358>"
      ]
     },
     "execution_count": 17,
     "metadata": {},
     "output_type": "execute_result"
    }
   ],
   "source": [
    "from wordcloud import WordCloud\n",
    "from PIL import Image\n",
    "wordcloud = WordCloud(font_path=\"msyh.ttf\",background_color='white')\n",
    "wordcloud.generate(mytext1)\n",
    "wordcloud.to_file('tags(zhoubian).png')"
   ]
  },
  {
   "cell_type": "code",
   "execution_count": 11,
   "metadata": {},
   "outputs": [
    {
     "data": {
      "text/plain": [
       "[('首付', 313),\n",
       " ('北京', 274),\n",
       " ('送', 252),\n",
       " ('地铁', 215),\n",
       " ('现房', 212),\n",
       " ('可买', 188),\n",
       " ('孔雀', 167),\n",
       " ('大', 164),\n",
       " ('车位', 161),\n",
       " ('花园', 148),\n",
       " ('外地人', 147),\n",
       " ('别墅', 129),\n",
       " ('产权', 128),\n",
       " ('东', 127),\n",
       " ('外地', 125),\n",
       " ('城', 124),\n",
       " ('高铁', 114),\n",
       " ('特价', 107),\n",
       " ('燕郊', 104),\n",
       " ('旁', 94)]"
      ]
     },
     "execution_count": 11,
     "metadata": {},
     "output_type": "execute_result"
    }
   ],
   "source": [
    "from collections import Counter\n",
    "import re\n",
    "pattern = re.compile(u'\\s|\\，|\\.|-|:|;|\\）|\\（|\\?|\\*|\\万|\\/|\\！|[0-9]|\\~|\"') # 定义正则表达式匹配模式\n",
    "mytext = re.sub(pattern, '', mytext) # 将符合模式的字符去除\n",
    "# 返回最高频的 20个\n",
    "Counter(list(jieba.cut(mytext))).most_common(20)"
   ]
  },
  {
   "cell_type": "code",
   "execution_count": 12,
   "metadata": {},
   "outputs": [
    {
     "data": {
      "text/plain": [
       "[('新房', 795),\n",
       " ('房源', 795),\n",
       " ('小区', 484),\n",
       " ('品质', 473),\n",
       " ('地铁', 253),\n",
       " ('近', 249),\n",
       " ('交通', 243),\n",
       " ('便利', 243),\n",
       " ('配套', 243),\n",
       " ('成熟', 243),\n",
       " ('繁华', 222),\n",
       " ('地段', 222),\n",
       " ('环境优美', 178),\n",
       " ('低密度', 65),\n",
       " ('住户', 45),\n",
       " ('素质', 40),\n",
       " ('别墅', 31),\n",
       " ('南北', 28),\n",
       " ('通透', 28),\n",
       " ('安全性', 28)]"
      ]
     },
     "execution_count": 12,
     "metadata": {},
     "output_type": "execute_result"
    }
   ],
   "source": [
    "from collections import Counter\n",
    "pattern = re.compile(u'\\s|\\，|\\.|-|:|;|\\）|\\（|\\?|\\万|\\/|\\！|[0-9]|\"') # 定义正则表达式匹配模式\n",
    "mytext1 = re.sub(pattern, '', mytext1) # 将符合模式的字符去除\n",
    "# 返回最高频的 20个\n",
    "Counter(list(jieba.cut(mytext1))).most_common(20)"
   ]
  }
 ],
 "metadata": {
  "kernelspec": {
   "display_name": "Python 3",
   "language": "python",
   "name": "python3"
  },
  "language_info": {
   "codemirror_mode": {
    "name": "ipython",
    "version": 3
   },
   "file_extension": ".py",
   "mimetype": "text/x-python",
   "name": "python",
   "nbconvert_exporter": "python",
   "pygments_lexer": "ipython3",
   "version": "3.7.3"
  }
 },
 "nbformat": 4,
 "nbformat_minor": 2
}
