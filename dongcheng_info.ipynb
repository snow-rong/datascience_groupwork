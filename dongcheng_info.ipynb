{
 "cells": [
  {
   "cell_type": "code",
   "execution_count": 7,
   "metadata": {
    "scrolled": false
   },
   "outputs": [
    {
     "name": "stdout",
     "output_type": "stream",
     "text": [
      "Requirement already satisfied: jieba in d:\\anaconda3\\lib\\site-packages (0.39)\n",
      "Note: you may need to restart the kernel to use updated packages.\n"
     ]
    }
   ],
   "source": [
    "pip install jieba"
   ]
  },
  {
   "cell_type": "code",
   "execution_count": 8,
   "metadata": {},
   "outputs": [
    {
     "data": {
      "text/plain": [
       "1002"
      ]
     },
     "execution_count": 8,
     "metadata": {},
     "output_type": "execute_result"
    }
   ],
   "source": [
    "import pandas as pd\n",
    "import jieba\n",
    "data=pd.read_excel(\"C:\\\\Users\\\\雪宝\\\\Desktop\\\\bj_house_info第三版.xlsx\",sheet_name=\"东城\")\n",
    "hangshu=len(data)\n",
    "hangshu"
   ]
  },
  {
   "cell_type": "code",
   "execution_count": 9,
   "metadata": {},
   "outputs": [
    {
     "name": "stderr",
     "output_type": "stream",
     "text": [
      "D:\\Anaconda3\\lib\\site-packages\\pandas\\core\\indexing.py:190: SettingWithCopyWarning: \n",
      "A value is trying to be set on a copy of a slice from a DataFrame\n",
      "\n",
      "See the caveats in the documentation: http://pandas.pydata.org/pandas-docs/stable/indexing.html#indexing-view-versus-copy\n",
      "  self._setitem_with_indexer(indexer, value)\n"
     ]
    }
   ],
   "source": [
    "counter=0\n",
    "while counter<hangshu:\n",
    "    text = data.titile.iloc[counter]          # 读取counter行，评论列单元格内容\n",
    "    seg_list = jieba.lcut(text, cut_all=False)      # 对读取的text评论分词\n",
    "    data.title_fenci.iloc[counter]=str(\"/ \".join(seg_list))  # 把分词结果赋给相应的单元格            \n",
    "    text1 = data.house_tags.iloc[counter]          # 读取counter行，评论列单元格内容\n",
    "    seg_list1 = jieba.lcut(text1, cut_all=False)      # 对读取的text评论分词\n",
    "    data.tags_fenci.iloc[counter]=str(\"/ \".join(seg_list1))  # 把分词结果赋给相应的单元格\n",
    "    counter=counter+1                          # counter+1，处理下一行数据"
   ]
  },
  {
   "cell_type": "code",
   "execution_count": 10,
   "metadata": {},
   "outputs": [],
   "source": [
    "data.to_excel(\"E:\\\\house_info\\\\bj_house_info第三版（fenci）3.xlsx\")    # 把结果保存到新Excel表中"
   ]
  },
  {
   "cell_type": "code",
   "execution_count": 11,
   "metadata": {},
   "outputs": [
    {
     "name": "stdout",
     "output_type": "stream",
     "text": [
      "Requirement already satisfied: wordcloud in d:\\anaconda3\\lib\\site-packages (1.7.0)\n",
      "Requirement already satisfied: matplotlib in d:\\anaconda3\\lib\\site-packages (from wordcloud) (3.1.0)\n",
      "Requirement already satisfied: pillow in d:\\anaconda3\\lib\\site-packages (from wordcloud) (6.1.0)\n",
      "Requirement already satisfied: numpy>=1.6.1 in d:\\anaconda3\\lib\\site-packages (from wordcloud) (1.16.4)\n",
      "Requirement already satisfied: cycler>=0.10 in d:\\anaconda3\\lib\\site-packages (from matplotlib->wordcloud) (0.10.0)\n",
      "Requirement already satisfied: kiwisolver>=1.0.1 in d:\\anaconda3\\lib\\site-packages (from matplotlib->wordcloud) (1.1.0)\n",
      "Requirement already satisfied: pyparsing!=2.0.4,!=2.1.2,!=2.1.6,>=2.0.1 in d:\\anaconda3\\lib\\site-packages (from matplotlib->wordcloud) (2.4.0)\n",
      "Requirement already satisfied: python-dateutil>=2.1 in d:\\anaconda3\\lib\\site-packages (from matplotlib->wordcloud) (2.8.0)\n",
      "Requirement already satisfied: six in d:\\anaconda3\\lib\\site-packages (from cycler>=0.10->matplotlib->wordcloud) (1.12.0)\n",
      "Requirement already satisfied: setuptools in d:\\anaconda3\\lib\\site-packages (from kiwisolver>=1.0.1->matplotlib->wordcloud) (41.0.1)\n",
      "Note: you may need to restart the kernel to use updated packages.\n"
     ]
    }
   ],
   "source": [
    "pip install wordcloud"
   ]
  },
  {
   "cell_type": "code",
   "execution_count": 12,
   "metadata": {},
   "outputs": [
    {
     "name": "stdout",
     "output_type": "stream",
     "text": [
      "Requirement already satisfied: matplotlib in d:\\anaconda3\\lib\\site-packages (3.1.0)\n",
      "Requirement already satisfied: cycler>=0.10 in d:\\anaconda3\\lib\\site-packages (from matplotlib) (0.10.0)\n",
      "Requirement already satisfied: kiwisolver>=1.0.1 in d:\\anaconda3\\lib\\site-packages (from matplotlib) (1.1.0)\n",
      "Requirement already satisfied: pyparsing!=2.0.4,!=2.1.2,!=2.1.6,>=2.0.1 in d:\\anaconda3\\lib\\site-packages (from matplotlib) (2.4.0)\n",
      "Requirement already satisfied: python-dateutil>=2.1 in d:\\anaconda3\\lib\\site-packages (from matplotlib) (2.8.0)\n",
      "Requirement already satisfied: numpy>=1.11 in d:\\anaconda3\\lib\\site-packages (from matplotlib) (1.16.4)\n",
      "Requirement already satisfied: six in d:\\anaconda3\\lib\\site-packages (from cycler>=0.10->matplotlib) (1.12.0)\n",
      "Requirement already satisfied: setuptools in d:\\anaconda3\\lib\\site-packages (from kiwisolver>=1.0.1->matplotlib) (41.0.1)\n",
      "Note: you may need to restart the kernel to use updated packages.\n"
     ]
    }
   ],
   "source": [
    "pip install matplotlib"
   ]
  },
  {
   "cell_type": "code",
   "execution_count": 13,
   "metadata": {},
   "outputs": [],
   "source": [
    "filename = \"E:\\\\house_info\\\\title(dongcheng).txt\"\n",
    "with open(filename,encoding='utf-8') as f:\n",
    "    mytext = f.read()\n",
    "filename = \"E:\\\\house_info\\\\tags(dongcheng).txt\"\n",
    "with open(filename,encoding='utf-8') as f:\n",
    "    mytext1 = f.read()"
   ]
  },
  {
   "cell_type": "code",
   "execution_count": 15,
   "metadata": {},
   "outputs": [
    {
     "data": {
      "text/plain": [
       "<wordcloud.wordcloud.WordCloud at 0x2620dd54f60>"
      ]
     },
     "execution_count": 15,
     "metadata": {},
     "output_type": "execute_result"
    }
   ],
   "source": [
    "from wordcloud import WordCloud\n",
    "from PIL import Image\n",
    "import numpy as np\n",
    "mask = np.array(Image.open('房子(1).jpg'))\n",
    "wordcloud = WordCloud(font_path=\"msyh.ttf\",mask=mask,background_color='white')\n",
    "wordcloud.generate(mytext)\n",
    "wordcloud.to_file('title(dongcheng).png')"
   ]
  },
  {
   "cell_type": "code",
   "execution_count": 16,
   "metadata": {},
   "outputs": [
    {
     "data": {
      "text/plain": [
       "<wordcloud.wordcloud.WordCloud at 0x2620dafd710>"
      ]
     },
     "execution_count": 16,
     "metadata": {},
     "output_type": "execute_result"
    }
   ],
   "source": [
    "from wordcloud import WordCloud\n",
    "from PIL import Image\n",
    "wordcloud = WordCloud(font_path=\"msyh.ttf\",background_color='white')\n",
    "wordcloud.generate(mytext1)\n",
    "wordcloud.to_file('tags(dongcheng).png')"
   ]
  },
  {
   "cell_type": "code",
   "execution_count": 17,
   "metadata": {},
   "outputs": [
    {
     "data": {
      "text/plain": [
       "[('南北', 190),\n",
       " ('随时', 167),\n",
       " ('家园', 138),\n",
       " ('通透', 121),\n",
       " ('东城', 120),\n",
       " ('看房', 118),\n",
       " ('东城区', 116),\n",
       " ('有', 110),\n",
       " ('私产', 104),\n",
       " ('五年', 100),\n",
       " ('平房', 96),\n",
       " ('胡同', 95),\n",
       " ('两居室', 88),\n",
       " ('地铁', 86),\n",
       " ('带', 83),\n",
       " ('户型', 82),\n",
       " ('低', 81),\n",
       " ('满', 78),\n",
       " ('朝南', 75),\n",
       " ('电梯', 75)]"
      ]
     },
     "execution_count": 17,
     "metadata": {},
     "output_type": "execute_result"
    }
   ],
   "source": [
    "from collections import Counter\n",
    "import re\n",
    "pattern = re.compile(u'\\s|\\，|\\.|-|:|;|\\）|\\（|\\?|\\万|\\/|\\！|[0-9]|\"') # 定义正则表达式匹配模式\n",
    "mytext = re.sub(pattern, '', mytext) # 将符合模式的字符去除\n",
    "# 返回最高频的 20个\n",
    "Counter(list(jieba.cut(mytext))).most_common(20)"
   ]
  },
  {
   "cell_type": "code",
   "execution_count": 18,
   "metadata": {},
   "outputs": [
    {
     "data": {
      "text/plain": [
       "[('小区', 218),\n",
       " ('配套', 199),\n",
       " ('成熟', 199),\n",
       " ('地铁', 161),\n",
       " ('繁华', 157),\n",
       " ('地段', 157),\n",
       " ('近', 154),\n",
       " ('品质', 154),\n",
       " ('交通', 110),\n",
       " ('便利', 110),\n",
       " ('环境优美', 98),\n",
       " ('安全性', 90),\n",
       " ('住户', 51),\n",
       " ('素质', 38),\n",
       " ('高', 37),\n",
       " ('新', 33),\n",
       " ('南北', 29),\n",
       " ('通透', 29),\n",
       " ('次', 28),\n",
       " ('低密度', 26)]"
      ]
     },
     "execution_count": 18,
     "metadata": {},
     "output_type": "execute_result"
    }
   ],
   "source": [
    "from collections import Counter\n",
    "pattern = re.compile(u'\\s|\\，|\\.|-|:|;|\\）|\\（|\\?|\\万|\\/|\\！|[0-9]|\"') # 定义正则表达式匹配模式\n",
    "mytext1 = re.sub(pattern, '', mytext1) # 将符合模式的字符去除\n",
    "# 返回最高频的 20个\n",
    "Counter(list(jieba.cut(mytext1))).most_common(20)"
   ]
  }
 ],
 "metadata": {
  "kernelspec": {
   "display_name": "Python 3",
   "language": "python",
   "name": "python3"
  },
  "language_info": {
   "codemirror_mode": {
    "name": "ipython",
    "version": 3
   },
   "file_extension": ".py",
   "mimetype": "text/x-python",
   "name": "python",
   "nbconvert_exporter": "python",
   "pygments_lexer": "ipython3",
   "version": "3.7.3"
  }
 },
 "nbformat": 4,
 "nbformat_minor": 2
}
