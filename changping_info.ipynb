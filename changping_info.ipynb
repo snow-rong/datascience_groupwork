{
 "cells": [
  {
   "cell_type": "code",
   "execution_count": 1,
   "metadata": {},
   "outputs": [
    {
     "name": "stdout",
     "output_type": "stream",
     "text": [
      "Requirement already satisfied: jieba in d:\\anaconda3\\lib\\site-packages (0.39)\n",
      "Note: you may need to restart the kernel to use updated packages.\n"
     ]
    }
   ],
   "source": [
    "pip install jieba"
   ]
  },
  {
   "cell_type": "code",
   "execution_count": 2,
   "metadata": {},
   "outputs": [
    {
     "data": {
      "text/plain": [
       "1076"
      ]
     },
     "execution_count": 2,
     "metadata": {},
     "output_type": "execute_result"
    }
   ],
   "source": [
    "import pandas as pd\n",
    "import jieba\n",
    "data=pd.read_excel(\"C:\\\\Users\\\\雪宝\\\\Desktop\\\\bj_house_info第三版.xlsx\",sheet_name=\"昌平\")\n",
    "hangshu=len(data)\n",
    "hangshu"
   ]
  },
  {
   "cell_type": "code",
   "execution_count": 3,
   "metadata": {},
   "outputs": [
    {
     "name": "stderr",
     "output_type": "stream",
     "text": [
      "Building prefix dict from the default dictionary ...\n",
      "Loading model from cache C:\\Users\\雪宝\\AppData\\Local\\Temp\\jieba.cache\n",
      "Loading model cost 0.640 seconds.\n",
      "Prefix dict has been built succesfully.\n",
      "D:\\Anaconda3\\lib\\site-packages\\pandas\\core\\indexing.py:190: SettingWithCopyWarning: \n",
      "A value is trying to be set on a copy of a slice from a DataFrame\n",
      "\n",
      "See the caveats in the documentation: http://pandas.pydata.org/pandas-docs/stable/indexing.html#indexing-view-versus-copy\n",
      "  self._setitem_with_indexer(indexer, value)\n"
     ]
    }
   ],
   "source": [
    "counter=0\n",
    "while counter<hangshu:\n",
    "    text = data.titile.iloc[counter]          # 读取counter行，评论列单元格内容\n",
    "    seg_list = jieba.lcut(text, cut_all=False)      # 对读取的text评论分词\n",
    "    data.title_fenci.iloc[counter]=str(\"/ \".join(seg_list))  # 把分词结果赋给相应的单元格            \n",
    "    text1 = data.house_tags.iloc[counter]          # 读取counter行，评论列单元格内容\n",
    "    seg_list1 = jieba.lcut(text1, cut_all=False)      # 对读取的text评论分词\n",
    "    data.tags_fenci.iloc[counter]=str(\"/ \".join(seg_list1))  # 把分词结果赋给相应的单元格\n",
    "    counter=counter+1                          # counter+1，处理下一行数据"
   ]
  },
  {
   "cell_type": "code",
   "execution_count": 4,
   "metadata": {},
   "outputs": [],
   "source": [
    "data.to_excel(\"E:\\\\house_info\\\\bj_house_info第三版（fenci）8.xlsx\")    # 把结果保存到新Excel表中"
   ]
  },
  {
   "cell_type": "code",
   "execution_count": 5,
   "metadata": {},
   "outputs": [
    {
     "name": "stdout",
     "output_type": "stream",
     "text": [
      "Requirement already satisfied: wordcloud in d:\\anaconda3\\lib\\site-packages (1.7.0)\n",
      "Requirement already satisfied: matplotlib in d:\\anaconda3\\lib\\site-packages (from wordcloud) (3.1.0)\n",
      "Requirement already satisfied: numpy>=1.6.1 in d:\\anaconda3\\lib\\site-packages (from wordcloud) (1.16.4)\n",
      "Requirement already satisfied: pillow in d:\\anaconda3\\lib\\site-packages (from wordcloud) (6.1.0)\n",
      "Requirement already satisfied: cycler>=0.10 in d:\\anaconda3\\lib\\site-packages (from matplotlib->wordcloud) (0.10.0)\n",
      "Requirement already satisfied: kiwisolver>=1.0.1 in d:\\anaconda3\\lib\\site-packages (from matplotlib->wordcloud) (1.1.0)\n",
      "Requirement already satisfied: pyparsing!=2.0.4,!=2.1.2,!=2.1.6,>=2.0.1 in d:\\anaconda3\\lib\\site-packages (from matplotlib->wordcloud) (2.4.0)\n",
      "Requirement already satisfied: python-dateutil>=2.1 in d:\\anaconda3\\lib\\site-packages (from matplotlib->wordcloud) (2.8.0)\n",
      "Requirement already satisfied: six in d:\\anaconda3\\lib\\site-packages (from cycler>=0.10->matplotlib->wordcloud) (1.12.0)\n",
      "Requirement already satisfied: setuptools in d:\\anaconda3\\lib\\site-packages (from kiwisolver>=1.0.1->matplotlib->wordcloud) (41.0.1)\n",
      "Note: you may need to restart the kernel to use updated packages.\n"
     ]
    }
   ],
   "source": [
    "pip install wordcloud"
   ]
  },
  {
   "cell_type": "code",
   "execution_count": 6,
   "metadata": {},
   "outputs": [
    {
     "name": "stdout",
     "output_type": "stream",
     "text": [
      "Requirement already satisfied: matplotlib in d:\\anaconda3\\lib\\site-packages (3.1.0)\n",
      "Requirement already satisfied: cycler>=0.10 in d:\\anaconda3\\lib\\site-packages (from matplotlib) (0.10.0)\n",
      "Requirement already satisfied: kiwisolver>=1.0.1 in d:\\anaconda3\\lib\\site-packages (from matplotlib) (1.1.0)\n",
      "Requirement already satisfied: pyparsing!=2.0.4,!=2.1.2,!=2.1.6,>=2.0.1 in d:\\anaconda3\\lib\\site-packages (from matplotlib) (2.4.0)\n",
      "Requirement already satisfied: python-dateutil>=2.1 in d:\\anaconda3\\lib\\site-packages (from matplotlib) (2.8.0)\n",
      "Requirement already satisfied: numpy>=1.11 in d:\\anaconda3\\lib\\site-packages (from matplotlib) (1.16.4)\n",
      "Requirement already satisfied: six in d:\\anaconda3\\lib\\site-packages (from cycler>=0.10->matplotlib) (1.12.0)\n",
      "Requirement already satisfied: setuptools in d:\\anaconda3\\lib\\site-packages (from kiwisolver>=1.0.1->matplotlib) (41.0.1)\n",
      "Note: you may need to restart the kernel to use updated packages.\n"
     ]
    }
   ],
   "source": [
    "pip install matplotlib"
   ]
  },
  {
   "cell_type": "code",
   "execution_count": 13,
   "metadata": {},
   "outputs": [],
   "source": [
    "filename = \"E:\\\\house_info\\\\title(changping).txt\"\n",
    "with open(filename,encoding='utf-8') as f:\n",
    "    mytext = f.read()\n",
    "filename = \"E:\\\\house_info\\\\tags(changping).txt\"\n",
    "with open(filename,encoding='utf-8') as f:\n",
    "    mytext1 = f.read()"
   ]
  },
  {
   "cell_type": "code",
   "execution_count": 8,
   "metadata": {},
   "outputs": [
    {
     "data": {
      "text/plain": [
       "<wordcloud.wordcloud.WordCloud at 0x2dd67dc4d30>"
      ]
     },
     "execution_count": 8,
     "metadata": {},
     "output_type": "execute_result"
    }
   ],
   "source": [
    "from wordcloud import WordCloud\n",
    "from PIL import Image\n",
    "import numpy as np\n",
    "mask = np.array(Image.open('房子(1).jpg'))\n",
    "wordcloud = WordCloud(font_path=\"msyh.ttf\",mask=mask,background_color='white')\n",
    "wordcloud.generate(mytext)\n",
    "wordcloud.to_file('title(changping).png')"
   ]
  },
  {
   "cell_type": "code",
   "execution_count": 15,
   "metadata": {},
   "outputs": [
    {
     "data": {
      "text/plain": [
       "<wordcloud.wordcloud.WordCloud at 0x2dd64fbbf98>"
      ]
     },
     "execution_count": 15,
     "metadata": {},
     "output_type": "execute_result"
    }
   ],
   "source": [
    "from wordcloud import WordCloud\n",
    "from PIL import Image\n",
    "wordcloud = WordCloud(font_path=\"msyh.ttf\",background_color='white')\n",
    "wordcloud.generate(mytext1)\n",
    "wordcloud.to_file('tags(changping).png')"
   ]
  },
  {
   "cell_type": "code",
   "execution_count": 11,
   "metadata": {},
   "outputs": [
    {
     "data": {
      "text/plain": [
       "[('南北', 265),\n",
       " ('花园', 213),\n",
       " ('通透', 197),\n",
       " ('电梯', 182),\n",
       " ('好', 142),\n",
       " ('看房', 138),\n",
       " ('户型', 129),\n",
       " ('精装修', 124),\n",
       " ('带', 116),\n",
       " ('精装', 114),\n",
       " ('首付', 109),\n",
       " ('采光', 105),\n",
       " ('五年', 97),\n",
       " ('随时', 96),\n",
       " ('两居室', 94),\n",
       " ('楼层', 88),\n",
       " ('唯一', 88),\n",
       " ('有', 85),\n",
       " ('地铁', 85),\n",
       " ('别墅', 85)]"
      ]
     },
     "execution_count": 11,
     "metadata": {},
     "output_type": "execute_result"
    }
   ],
   "source": [
    "from collections import Counter\n",
    "import re\n",
    "pattern = re.compile(u'\\s|\\，|\\.|-|:|;|\\）|\\（|\\?|\\*|\\万|\\/|\\！|[0-9]|\\~|\"') # 定义正则表达式匹配模式\n",
    "mytext = re.sub(pattern, '', mytext) # 将符合模式的字符去除\n",
    "# 返回最高频的 20个\n",
    "Counter(list(jieba.cut(mytext))).most_common(20)"
   ]
  },
  {
   "cell_type": "code",
   "execution_count": 12,
   "metadata": {},
   "outputs": [
    {
     "data": {
      "text/plain": [
       "[('小区', 330),\n",
       " ('品质', 271),\n",
       " ('配套', 229),\n",
       " ('成熟', 229),\n",
       " ('地铁', 191),\n",
       " ('近', 186),\n",
       " ('繁华', 150),\n",
       " ('地段', 150),\n",
       " ('交通', 148),\n",
       " ('便利', 148),\n",
       " ('环境优美', 147),\n",
       " ('新房', 101),\n",
       " ('房源', 101),\n",
       " ('安全性', 57),\n",
       " ('住户', 52),\n",
       " ('素质', 41),\n",
       " ('南北', 38),\n",
       " ('通透', 38),\n",
       " ('新', 34),\n",
       " ('低密度', 34)]"
      ]
     },
     "execution_count": 12,
     "metadata": {},
     "output_type": "execute_result"
    }
   ],
   "source": [
    "from collections import Counter\n",
    "pattern = re.compile(u'\\s|\\，|\\.|-|:|;|\\）|\\（|\\?|\\万|\\/|\\！|[0-9]|\"') # 定义正则表达式匹配模式\n",
    "mytext1 = re.sub(pattern, '', mytext1) # 将符合模式的字符去除\n",
    "# 返回最高频的 20个\n",
    "Counter(list(jieba.cut(mytext1))).most_common(20)"
   ]
  }
 ],
 "metadata": {
  "kernelspec": {
   "display_name": "Python 3",
   "language": "python",
   "name": "python3"
  },
  "language_info": {
   "codemirror_mode": {
    "name": "ipython",
    "version": 3
   },
   "file_extension": ".py",
   "mimetype": "text/x-python",
   "name": "python",
   "nbconvert_exporter": "python",
   "pygments_lexer": "ipython3",
   "version": "3.7.3"
  }
 },
 "nbformat": 4,
 "nbformat_minor": 2
}
